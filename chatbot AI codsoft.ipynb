{
 "cells": [
  {
   "cell_type": "code",
   "execution_count": null,
   "id": "429f6ce9-325a-455c-be1b-f015037257cf",
   "metadata": {},
   "outputs": [
    {
     "name": "stdout",
     "output_type": "stream",
     "text": [
      "Welcome to the ChatBot! Type 'bye' to exit.\n"
     ]
    },
    {
     "name": "stdin",
     "output_type": "stream",
     "text": [
      "You:  help\n"
     ]
    },
    {
     "name": "stdout",
     "output_type": "stream",
     "text": [
      "ChatBot: I can help with basic information and answer questions. Just ask!\n"
     ]
    },
    {
     "name": "stdin",
     "output_type": "stream",
     "text": [
      "You:  who are you\n"
     ]
    },
    {
     "name": "stdout",
     "output_type": "stream",
     "text": [
      "ChatBot: I'm sorry, I don't understand that question.\n"
     ]
    }
   ],
   "source": [
    "import re\n",
    "\n",
    "# Define a dictionary of predefined rules and responses\n",
    "rules = {\n",
    "    r\"hello|hi|hey\": \"Hello! How can I assist you today?\",\n",
    "    r\"how are you\": \"I'm just a computer program, but thanks for asking!\",\n",
    "    r\"what is your name\": \"I'm a chatbot. You can call me ChatGPT.\",\n",
    "    r\"bye|goodbye\": \"Goodbye! Have a great day!\",\n",
    "    r\"help\": \"I can help with basic information and answer questions. Just ask!\",\n",
    "}\n",
    "\n",
    "# Function to provide responses based on user input\n",
    "def chatbot_response(user_input):\n",
    "    for pattern, response in rules.items():\n",
    "        if re.search(pattern, user_input, re.I):\n",
    "            return response\n",
    "    return \"I'm sorry, I don't understand that question.\"\n",
    "\n",
    "# Main conversation loop\n",
    "print(\"Welcome to the ChatBot! Type 'bye' to exit.\")\n",
    "while True:\n",
    "    user_input = input(\"You: \")\n",
    "    if user_input.lower() == 'bye':\n",
    "        print(\"ChatBot: Goodbye!\")\n",
    "        break\n",
    "    response = chatbot_response(user_input)\n",
    "    print(\"ChatBot:\", response)\n"
   ]
  },
  {
   "cell_type": "code",
   "execution_count": null,
   "id": "8ec8de9a-cf9c-43e5-ad6c-fc9caff6059c",
   "metadata": {},
   "outputs": [],
   "source": []
  }
 ],
 "metadata": {
  "kernelspec": {
   "display_name": "Python 3 (ipykernel)",
   "language": "python",
   "name": "python3"
  },
  "language_info": {
   "codemirror_mode": {
    "name": "ipython",
    "version": 3
   },
   "file_extension": ".py",
   "mimetype": "text/x-python",
   "name": "python",
   "nbconvert_exporter": "python",
   "pygments_lexer": "ipython3",
   "version": "3.11.5"
  }
 },
 "nbformat": 4,
 "nbformat_minor": 5
}
