{
 "cells": [
  {
   "cell_type": "code",
   "execution_count": 3,
   "id": "02001019-acf6-43a9-89bf-194a60e1dfd0",
   "metadata": {},
   "outputs": [
    {
     "name": "stdout",
     "output_type": "stream",
     "text": [
      "Welcome to Tic-Tac-Toe!\n",
      "  |   |  \n",
      "---------\n",
      "  |   |  \n",
      "---------\n",
      "  |   |  \n"
     ]
    },
    {
     "name": "stdin",
     "output_type": "stream",
     "text": [
      "Enter your move (1-9):  0\n"
     ]
    },
    {
     "name": "stdout",
     "output_type": "stream",
     "text": [
      "Invalid move. Try again.\n",
      "  |   |  \n",
      "---------\n",
      "  |   |  \n",
      "---------\n",
      "  |   |  \n"
     ]
    },
    {
     "name": "stdin",
     "output_type": "stream",
     "text": [
      "Enter your move (1-9):  1\n"
     ]
    },
    {
     "name": "stdout",
     "output_type": "stream",
     "text": [
      "O | X |  \n",
      "---------\n",
      "  |   |  \n",
      "---------\n",
      "  |   |  \n"
     ]
    },
    {
     "name": "stdin",
     "output_type": "stream",
     "text": [
      "Enter your move (1-9):  6\n"
     ]
    },
    {
     "name": "stdout",
     "output_type": "stream",
     "text": [
      "O | X |  \n",
      "---------\n",
      "  | X | O\n",
      "---------\n",
      "  |   |  \n"
     ]
    },
    {
     "name": "stdin",
     "output_type": "stream",
     "text": [
      "Enter your move (1-9):  3\n"
     ]
    },
    {
     "name": "stdout",
     "output_type": "stream",
     "text": [
      "O | X | O\n",
      "---------\n",
      "  | X | O\n",
      "---------\n",
      "  | X |  \n",
      "AI wins! Better luck next time.\n"
     ]
    }
   ],
   "source": [
    "# import random\n",
    "\n",
    "# Initialize the Tic-Tac-Toe board\n",
    "board = [\" \" for _ in range(9)]\n",
    "\n",
    "# Function to print the board\n",
    "def print_board(board):\n",
    "    for i in range(0, 9, 3):\n",
    "        print(\" | \".join(board[i:i+3]))\n",
    "        if i < 6:\n",
    "            print(\"-\" * 9)\n",
    "\n",
    "# Function to check if the board is full\n",
    "def is_full(board):\n",
    "    return \" \" not in board\n",
    "\n",
    "# Function to check if a player has won\n",
    "def check_winner(board, player):\n",
    "    for combo in [[0, 1, 2], [3, 4, 5], [6, 7, 8], [0, 3, 6], [1, 4, 7], [2, 5, 8], [0, 4, 8], [2, 4, 6]]:\n",
    "        if all(board[i] == player for i in combo):\n",
    "            return True\n",
    "    return False\n",
    "\n",
    "# Function to evaluate the current state using Minimax\n",
    "def evaluate(board):\n",
    "    if check_winner(board, \"X\"):\n",
    "        return 1\n",
    "    elif check_winner(board, \"O\"):\n",
    "        return -1\n",
    "    elif is_full(board):\n",
    "        return 0\n",
    "    return None\n",
    "\n",
    "# Minimax algorithm to determine the best move for the AI\n",
    "def minimax(board, depth, maximizing_player):\n",
    "    if depth == 0 or is_full(board):\n",
    "        return evaluate(board)\n",
    "    \n",
    "    if maximizing_player:\n",
    "        max_eval = float(\"-inf\")\n",
    "        for i in range(9):\n",
    "            if board[i] == \" \":\n",
    "                board[i] = \"X\"\n",
    "                eval = minimax(board, depth - 1, False)\n",
    "                board[i] = \" \"\n",
    "                max_eval = max(max_eval, eval)\n",
    "        return max_eval\n",
    "    else:\n",
    "        min_eval = float(\"inf\")\n",
    "        for i in range(9):\n",
    "            if board[i] == \" \":\n",
    "                board[i] = \"O\"\n",
    "                eval = minimax(board, depth - 1, True)\n",
    "                board[i] = \" \"\n",
    "                min_eval = min(min_eval, eval)\n",
    "        return min_eval\n",
    "\n",
    "# Function to make the AI move\n",
    "def ai_move(board):\n",
    "    best_move = -1\n",
    "    best_eval = float(\"-inf\")\n",
    "    for i in range(9):\n",
    "        if board[i] == \" \":\n",
    "            board[i] = \"X\"\n",
    "            eval = minimax(board, 9, False)\n",
    "            board[i] = \" \"\n",
    "            if eval > best_eval:\n",
    "                best_eval = eval\n",
    "                best_move = i\n",
    "    return best_move\n",
    "\n",
    "# Main game loop\n",
    "print(\"Welcome to Tic-Tac-Toe!\")\n",
    "\n",
    "while not is_full(board):\n",
    "    print_board(board)\n",
    "    \n",
    "    # Player's move\n",
    "    player_move = int(input(\"Enter your move (1-9): \")) - 1\n",
    "    if player_move < 0 or player_move > 8 or board[player_move] != \" \":\n",
    "        print(\"Invalid move. Try again.\")\n",
    "        continue\n",
    "    board[player_move] = \"O\"\n",
    "    \n",
    "    # Check if the player has won\n",
    "    if check_winner(board, \"O\"):\n",
    "        print_board(board)\n",
    "        print(\"Congratulations! You win!\")\n",
    "        break\n",
    "    \n",
    "    # AI's move\n",
    "    ai_best_move = ai_move(board)\n",
    "    board[ai_best_move] = \"X\"\n",
    "    \n",
    "    # Check if the AI has won\n",
    "    if check_winner(board, \"X\"):\n",
    "        print_board(board)\n",
    "        print(\"AI wins! Better luck next time.\")\n",
    "        break\n",
    "\n",
    "# If no one wins, it's a draw\n",
    "if not check_winner(board, \"X\") and not check_winner(board, \"O\"):\n",
    "    print_board(board)\n",
    "    print(\"It's a draw!\")\n"
   ]
  },
  {
   "cell_type": "raw",
   "id": "19b17346-51db-42dc-817a-ba3f10f2df2a",
   "metadata": {},
   "source": []
  },
  {
   "cell_type": "code",
   "execution_count": null,
   "id": "e94378d7-f71e-4f0c-9b3b-dcca4a3f2919",
   "metadata": {},
   "outputs": [],
   "source": []
  }
 ],
 "metadata": {
  "kernelspec": {
   "display_name": "Python 3 (ipykernel)",
   "language": "python",
   "name": "python3"
  },
  "language_info": {
   "codemirror_mode": {
    "name": "ipython",
    "version": 3
   },
   "file_extension": ".py",
   "mimetype": "text/x-python",
   "name": "python",
   "nbconvert_exporter": "python",
   "pygments_lexer": "ipython3",
   "version": "3.11.5"
  }
 },
 "nbformat": 4,
 "nbformat_minor": 5
}
